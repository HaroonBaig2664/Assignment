{
 "cells": [
  {
   "cell_type": "code",
   "execution_count": 1,
   "id": "e0d38f77",
   "metadata": {},
   "outputs": [
    {
     "name": "stdout",
     "output_type": "stream",
     "text": [
      "MongoClient(host=['localhost:27017'], document_class=dict, tz_aware=False, connect=True)\n"
     ]
    }
   ],
   "source": [
    "from xml.dom.minidom import Document\n",
    "from pymongo import MongoClient\n",
    "import pandas as pd\n",
    "import numpy as np\n",
    "import json\n",
    "import matplotlib.pyplot as plt\n",
    "import seaborn as sns\n",
    "\n",
    "\n",
    "\n",
    "def mongoimport(csv_path):\n",
    "    \n",
    "    # drop all documents   \n",
    "    hr_df = pd.read_csv(csv_path)\n",
    "\n",
    "    payload = json.loads(hr_df.to_json(orient = 'records'))\n",
    "    collection.delete_many({})\n",
    "    collection.insert_many(payload)\n",
    "\n",
    "if __name__ == \"__main__\":\n",
    "    client = MongoClient(\"mongodb://localhost:27017\")\n",
    "    print(client)\n",
    "    db = client['airline_delayDB']\n",
    "    collection = db['flights']\n",
    "    mongoimport('Flights_Delay.csv')\n"
   ]
  },
  {
   "cell_type": "code",
   "execution_count": 4,
   "id": "0747f2aa",
   "metadata": {},
   "outputs": [
    {
     "name": "stdout",
     "output_type": "stream",
     "text": [
      "{'avgerage_arrival_delay': 7.545457931394093}\n"
     ]
    }
   ],
   "source": [
    " # 1 average flight delay \n",
    "\n",
    "avg_delay = collection.aggregate([\n",
    "        {'$group' : {'_id' : 'null', 'avgerage_arrival_delay':{ '$avg' : '$ARRIVAL_DELAY'}}}, \n",
    "                    {'$project' : {'_id' : 0}}])\n",
    "for item in avg_delay:\n",
    "        print(item)"
   ]
  },
  {
   "cell_type": "code",
   "execution_count": 8,
   "id": "a5bcee3a",
   "metadata": {},
   "outputs": [
    {
     "data": {
      "image/png": "[encoded data removed]",
      "text/plain": [
       "<Figure size 432x288 with 1 Axes>"
      ]
     },
     "metadata": {
      "needs_background": "light"
     },
     "output_type": "display_data"
    }
   ],
   "source": [
    "  # c). Days of months with respect to average of arrival delays. [Create a suitable plot using matplotlib/seaborn]\n",
    "day_avg_delay=collection.aggregate([   {'$group': {'_id':'$DAY','total_avg': { '$avg':'$ARRIVAL_DELAY'}}}  ])\n",
    "dayys = {}\n",
    "for item in day_avg_delay:\n",
    "        dayys.update({item['_id']: item['total_avg']})\n",
    "        \n",
    "        keys1 = dayys.keys()\n",
    "        values1 =dayys.values()\n",
    "plt.bar(keys1, values1,color = 'red')\n",
    "plt.show()"
   ]
  },
  {
   "cell_type": "code",
   "execution_count": 9,
   "id": "943360b5",
   "metadata": {},
   "outputs": [
    {
     "data": {
      "image/png": "[encoded data removed]",
      "text/plain": [
       "<Figure size 432x288 with 1 Axes>"
      ]
     },
     "metadata": {
      "needs_background": "light"
     },
     "output_type": "display_data"
    }
   ],
   "source": [
    " # d). Arrange weekdays with respect to the average arrival delays caused. [Create a suitable plot using matplotlib/seaborn]\n",
    "day_week=collection.aggregate([   {'$group': {'_id':'$DAY_OF_WEEK','total_avg': { '$avg':'$ARRIVAL_DELAY'}}}  ])\n",
    "daywe  = {}\n",
    "for item in day_week:\n",
    "    daywe.update({item['_id'] :item['total_avg']})\n",
    "keys2 = daywe.keys()\n",
    "values2 = daywe.values()\n",
    "\n",
    "plt.bar(keys2, values2,color = 'orange')\n",
    "plt.show()"
   ]
  },
  {
   "cell_type": "code",
   "execution_count": 10,
   "id": "673cfb15",
   "metadata": {},
   "outputs": [
    {
     "data": {
      "image/png": "[encoded data removed]",
      "text/plain": [
       "<Figure size 432x288 with 1 Axes>"
      ]
     },
     "metadata": {
      "needs_background": "light"
     },
     "output_type": "display_data"
    }
   ],
   "source": [
    "# e). Arrange Days of month as per cancellations done in descending order.  [Create a suitable plot using matplotlib/seaborn]\n",
    "day_cancel=collection.aggregate([\n",
    "    {'$match':{'CANCELLED':1}},\n",
    "     {'$group': {'_id': '$DAY','day_counts': { '$count':{}}}},\n",
    "     {'$sort':{'DAY':-1}}])\n",
    "day_co = {}\n",
    "  \n",
    "for item in day_cancel:\n",
    "    day_co.update({item['_id']: item['day_counts']})\n",
    "keys3 = day_co.keys()\n",
    "values3 = day_co.values()\n",
    "\n",
    "plt.bar(keys3, values3,color = 'orange')\n",
    "plt.show()"
   ]
  },
  {
   "cell_type": "code",
   "execution_count": 11,
   "id": "45e83372",
   "metadata": {},
   "outputs": [
    {
     "data": {
      "image/png": "[encoded data removed]",
      "text/plain": [
       "<Figure size 432x288 with 1 Axes>"
      ]
     },
     "metadata": {
      "needs_background": "light"
     },
     "output_type": "display_data"
    }
   ],
   "source": [
    "# f). Find the busiest airports with respect to day of week. Create a suitable plot using matplotlib/seaborn.\n",
    "busy_airport=collection.aggregate([\n",
    "    {'$group': {'_id': '$ORIGIN_AIRPORT', 'max_day' : { '$max' : '$DAY_OF_WEEK'}}},{'$sort':{'max_day':1}},{'$limit': 20}])\n",
    "og = {}\n",
    "\n",
    "for item in busy_airport:\n",
    "    og.update({item['_id'] :item['max_day']})\n",
    "\n",
    "keys4 = day_co.keys()\n",
    "values4 = day_co.values()\n",
    "\n",
    "plt.bar(keys4, values4,color = 'orange')\n",
    "plt.show()"
   ]
  },
  {
   "cell_type": "code",
   "execution_count": 12,
   "id": "8bb1d5de",
   "metadata": {},
   "outputs": [
    {
     "name": "stdout",
     "output_type": "stream",
     "text": [
      "{}\n"
     ]
    }
   ],
   "source": [
    "# # g). Find top 10 Airlines of US. Create a suitable plot using matplotlib/seaborn.\n",
    "top_airlines=collection.aggregate([\n",
    "    {'$match':{'AIRLINE':'US'}},\n",
    "     {'$group': {'_id': 'null'}},\n",
    "     {'$sort':{'AIRLINE':-1}},\n",
    "     {'$limit':10},{'$project':{'_id':0}}])\n",
    "\n",
    "for item in top_airlines:\n",
    "    print(item)"
   ]
  },
  {
   "cell_type": "code",
   "execution_count": 13,
   "id": "ba7725e3",
   "metadata": {},
   "outputs": [
    {
     "name": "stdout",
     "output_type": "stream",
     "text": [
      "max adn min {'max cancelation': 1, 'min cancelation': 0}\n"
     ]
    }
   ],
   "source": [
    "# h). Finding airlines that make the maximum, minimum number of cancellations.\n",
    "can_max_min=collection.aggregate([\n",
    "    {'$group': {'_id': 'null', 'max cancelation' : { '$max' : '$CANCELLED'},\n",
    "                                'min cancelation' : { '$min' : '$CANCELLED'}}} ,\n",
    "    {'$project':{'_id':0}}])\n",
    "for item in can_max_min:\n",
    "    print(\"max adn min\",item)"
   ]
  },
  {
   "cell_type": "code",
   "execution_count": 14,
   "id": "8f975336",
   "metadata": {},
   "outputs": [
    {
     "data": {
      "image/png": "[encoded data removed]",
      "text/plain": [
       "<Figure size 432x288 with 1 Axes>"
      ]
     },
     "metadata": {
      "needs_background": "light"
     },
     "output_type": "display_data"
    }
   ],
   "source": [
    "# i). Find and show airlines names in descending that make the most number of diversions made. [Create a suitable plot using matplotlib/seaborn]\n",
    "diversion=collection.aggregate([  \n",
    "                                {'$match':{'DIVERTED':1}},\n",
    "                                {'$group': {'_id':'$AIRLINE','total_counts': { '$count':{}}}},\n",
    "                                {'$sort':{'total_counts':-1}} ])\n",
    "dict = {}                                \n",
    "for item in diversion:\n",
    "    dict.update({item['_id']: item['total_counts']})   \n",
    "keys = dict.keys()\n",
    "values  =dict.values()                \n",
    "\n",
    "plt.bar(keys, values)\n",
    "plt.show()"
   ]
  },
  {
   "cell_type": "code",
   "execution_count": 15,
   "id": "80e144c8",
   "metadata": {},
   "outputs": [
    {
     "name": "stdout",
     "output_type": "stream",
     "text": [
      "day_diversion {'_id': 'WN', 'total_counts': 11738}\n",
      "day_diversion {'_id': 'DL', 'total_counts': 7989}\n",
      "day_diversion {'_id': 'EV', 'total_counts': 5916}\n",
      "day_diversion {'_id': 'OO', 'total_counts': 5708}\n",
      "day_diversion {'_id': 'AA', 'total_counts': 5250}\n",
      "day_diversion {'_id': 'UA', 'total_counts': 4701}\n",
      "day_diversion {'_id': 'US', 'total_counts': 3925}\n",
      "day_diversion {'_id': 'MQ', 'total_counts': 3502}\n",
      "day_diversion {'_id': 'B6', 'total_counts': 2548}\n",
      "day_diversion {'_id': 'AS', 'total_counts': 1586}\n",
      "day_diversion {'_id': 'NK', 'total_counts': 1048}\n",
      "day_diversion {'_id': 'F9', 'total_counts': 794}\n",
      "day_diversion {'_id': 'HA', 'total_counts': 722}\n",
      "day_diversion {'_id': 'VX', 'total_counts': 573}\n"
     ]
    }
   ],
   "source": [
    "# j). Finding days of month that see the most number of diversion\n",
    "day_diversion=collection.aggregate([   {'$group': {'_id':'$AIRLINE','total_counts': { '$count':{}}}},\n",
    "                                    {'$sort':{'total_counts':-1}} ])\n",
    "for item in day_diversion:\n",
    "    print(\"day_diversion\",item) "
   ]
  },
  {
   "cell_type": "code",
   "execution_count": 16,
   "id": "ee59ad9e",
   "metadata": {},
   "outputs": [
    {
     "name": "stdout",
     "output_type": "stream",
     "text": [
      "Mean: DEPARTURE_DELAY    11.329091\n",
      "dtype: float64\n",
      "Standard Deviation: DEPARTURE_DELAY    39.620916\n",
      "dtype: float64\n",
      "****************************************\n"
     ]
    }
   ],
   "source": [
    "    #k) Calculating mean and standard deviation of departure delay for all flights in minutes\n",
    "departure_delay = collection.find({},{'DEPARTURE_DELAY':1,'_id':0})\n",
    "    \n",
    "departure_delay_df=pd.DataFrame(departure_delay)\n",
    "print(\"Mean:\",departure_delay_df.mean())\n",
    "print(\"Standard Deviation:\",departure_delay_df.std())\n",
    "    \n",
    "    \n",
    "print(\"*\"*40)"
   ]
  },
  {
   "cell_type": "code",
   "execution_count": 17,
   "id": "d777e0fc",
   "metadata": {},
   "outputs": [
    {
     "name": "stdout",
     "output_type": "stream",
     "text": [
      "Mean: ARRIVAL_DELAY    7.545458\n",
      "dtype: float64\n",
      "Standard Deviation: ARRIVAL_DELAY    42.378386\n",
      "dtype: float64\n",
      "****************************************\n"
     ]
    }
   ],
   "source": [
    "#l) Calculating mean and standard deviation of arrival delay for all flights in minutes\n",
    "arrival_delay = collection.find({},{'ARRIVAL_DELAY':1,'_id':0})\n",
    "    \n",
    "arrival_delay_df=pd.DataFrame(arrival_delay)\n",
    "print(\"Mean:\",arrival_delay_df.mean())\n",
    "print(\"Standard Deviation:\",arrival_delay_df.std())\n",
    "    \n",
    "    \n",
    "print(\"*\"*40)"
   ]
  },
  {
   "cell_type": "code",
   "execution_count": 18,
   "id": "001fb8e1",
   "metadata": {},
   "outputs": [
    {
     "name": "stdout",
     "output_type": "stream",
     "text": [
      "0    {'ORIGIN_AIRPORT': 'CLT', 'DESTINATION_AIRPORT...\n",
      "1    {'ORIGIN_AIRPORT': 'TPA', 'DESTINATION_AIRPORT...\n",
      "2    {'ORIGIN_AIRPORT': 'HOU', 'DESTINATION_AIRPORT...\n",
      "3    {'ORIGIN_AIRPORT': 'STT', 'DESTINATION_AIRPORT...\n",
      "4    {'ORIGIN_AIRPORT': 'IAH', 'DESTINATION_AIRPORT...\n",
      "5    {'ORIGIN_AIRPORT': 'PHL', 'DESTINATION_AIRPORT...\n",
      "6    {'ORIGIN_AIRPORT': 'ORD', 'DESTINATION_AIRPORT...\n",
      "7    {'ORIGIN_AIRPORT': 'JFK', 'DESTINATION_AIRPORT...\n",
      "8    {'ORIGIN_AIRPORT': 'JFK', 'DESTINATION_AIRPORT...\n",
      "Name: _id, dtype: object\n",
      "****************************************\n"
     ]
    }
   ],
   "source": [
    "  #m - not found\n",
    "    \n",
    "    #n) Finding all diverted Route from a source to destination Airport & which route is the most diverted route.\n",
    "no_of_diversions=collection.aggregate([{'$match':{'DIVERTED':1}},\n",
    "                                    {'$group' :{'_id' : {'ORIGIN_AIRPORT':'$ORIGIN_AIRPORT',\"DESTINATION_AIRPORT\":'$DESTINATION_AIRPORT'},\n",
    "                                               'Most_Deversions_Count':{'$sum':1}}},\n",
    "                                    {'$sort':{'Most_Deversions_Count':-1}}                    ])\n",
    "        \n",
    "    #ii)\n",
    "no_of_diversions_df=pd.DataFrame(no_of_diversions)\n",
    "diversions_max=no_of_diversions_df.get('Most_Deversions_Count').max()\n",
    "    \n",
    "print(no_of_diversions_df[no_of_diversions_df['Most_Deversions_Count']==diversions_max]['_id'])\n",
    "   \n",
    "    \n",
    "print(\"*\"*40)"
   ]
  },
  {
   "cell_type": "code",
   "execution_count": 20,
   "id": "eda510d2",
   "metadata": {},
   "outputs": [
    {
     "name": "stdout",
     "output_type": "stream",
     "text": [
      "{'_id': ObjectId('63649e59979ab9ec901003d4'), 'total': -76.0}\n"
     ]
    }
   ],
   "source": [
    "#o) When is the best time of day/day of week/time of year to fly with minimum delay\n",
    "total_delay=collection.aggregate([{'$group':{'_id':'$_id','total':{'$sum':'$ARRIVAL_DELAY'}}},{'$sort': {'total':1}},\n",
    "                                  {'$limit':1}])\n",
    "for i in total_delay:\n",
    " print(i)"
   ]
  },
  {
   "cell_type": "code",
   "execution_count": null,
   "id": "5bbffbc3",
   "metadata": {},
   "outputs": [],
   "source": []
  }
 ],
 "metadata": {
  "kernelspec": {
   "display_name": "Python 3 (ipykernel)",
   "language": "python",
   "name": "python3"
  },
  "language_info": {
   "codemirror_mode": {
    "name": "ipython",
    "version": 3
   },
   "file_extension": ".py",
   "mimetype": "text/x-python",
   "name": "python",
   "nbconvert_exporter": "python",
   "pygments_lexer": "ipython3",
   "version": "3.9.12"
  }
 },
 "nbformat": 4,
 "nbformat_minor": 5
}
